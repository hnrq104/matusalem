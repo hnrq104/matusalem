{
 "cells": [
  {
   "cell_type": "markdown",
   "metadata": {},
   "source": [
    "### Trabalho Final - Escolha da Base\n",
    "#### Aprendizado de Máquina - ICP363\n",
    "\n",
    "**Prof:** João Carlos\n",
    "\n",
    "**Alunos:** Eduardo Monteiro, Erick Gaiote, Henrique Cardoso"
   ]
  },
  {
   "cell_type": "code",
   "execution_count": 27,
   "metadata": {},
   "outputs": [],
   "source": [
    "import re\n",
    "import pandas\n",
    "import nltk\n",
    "import seaborn as sns\n",
    "import matplotlib"
   ]
  },
  {
   "cell_type": "code",
   "execution_count": null,
   "metadata": {},
   "outputs": [],
   "source": [
    "df = pandas.read_csv('dados/bible.csv')\n",
    "df.head()"
   ]
  },
  {
   "cell_type": "code",
   "execution_count": null,
   "metadata": {},
   "outputs": [],
   "source": [
    "df.groupby('book').count().sort_values('chapter') #quantidade de versiculos por livro!"
   ]
  },
  {
   "cell_type": "code",
   "execution_count": null,
   "metadata": {},
   "outputs": [],
   "source": [
    "df.groupby('book').count().plot.pie(y='versicle',figsize=(10,10),autopct='%.0f%%') #plota quantidade a participação total de versiculos por livro"
   ]
  },
  {
   "cell_type": "code",
   "execution_count": 55,
   "metadata": {},
   "outputs": [],
   "source": [
    "df['text_len'] = df['text'].astype('string').str.len() #guarda tamanho de cada string"
   ]
  },
  {
   "cell_type": "code",
   "execution_count": null,
   "metadata": {},
   "outputs": [],
   "source": [
    "df.groupby('book')['text_len'].sum().plot.pie(y='text_len',figsize=(10,10),autopct='%.0f%%') #printa tamanho de texto por livro"
   ]
  },
  {
   "cell_type": "code",
   "execution_count": null,
   "metadata": {},
   "outputs": [],
   "source": [
    "Q1 = df['text_len'].quantile(0.25)\n",
    "Q3 = df['text_len'].quantile(0.75)\n",
    "IQR = Q3 - Q1\n",
    "\n",
    "# df.text.astype(\"string\").str.len().plot.box() #boxplot"
   ]
  },
  {
   "cell_type": "code",
   "execution_count": null,
   "metadata": {},
   "outputs": [],
   "source": [
    "df['text_len'].describe() #descrever tamanho do texto!"
   ]
  },
  {
   "cell_type": "code",
   "execution_count": null,
   "metadata": {},
   "outputs": [],
   "source": [
    "((df['text_len'] < (Q1 - 1.5 * IQR)) | (df['text_len'] > (Q3 + 1.5 * IQR))).sum() #quantidade de outliers!"
   ]
  },
  {
   "cell_type": "code",
   "execution_count": null,
   "metadata": {},
   "outputs": [],
   "source": [
    "sns.boxplot(df['text_len'])"
   ]
  },
  {
   "cell_type": "code",
   "execution_count": 59,
   "metadata": {},
   "outputs": [],
   "source": [
    "from nltk.corpus import stopwords\n",
    "stop = set(stopwords.words('english')) # removing stopwords"
   ]
  },
  {
   "cell_type": "code",
   "execution_count": 76,
   "metadata": {},
   "outputs": [],
   "source": [
    "def remove_stopwords(text):\n",
    "    words = nltk.word_tokenize(text.lower())\n",
    "    return ' '.join([x for x in words if x not in stop and x.isalpha()])"
   ]
  },
  {
   "cell_type": "code",
   "execution_count": 77,
   "metadata": {},
   "outputs": [],
   "source": [
    "df['filtered_text'] = df['text'].astype('string').apply(remove_stopwords)"
   ]
  },
  {
   "cell_type": "code",
   "execution_count": null,
   "metadata": {},
   "outputs": [],
   "source": [
    "#palavras mais comuns!\n",
    "import collections\n",
    "word_counts = collections.Counter([word.lower() for words in df['text'] for word in words.split()])\n",
    "word_counts.most_common(20)\n"
   ]
  },
  {
   "cell_type": "code",
   "execution_count": null,
   "metadata": {},
   "outputs": [],
   "source": [
    "count_real_words = collections.Counter([word for words in df['filtered_text'] for word in words.split()])\n",
    "count_real_words.most_common(20)"
   ]
  }
 ],
 "metadata": {
  "kernelspec": {
   "display_name": "icp363",
   "language": "python",
   "name": "python3"
  },
  "language_info": {
   "codemirror_mode": {
    "name": "ipython",
    "version": 3
   },
   "file_extension": ".py",
   "mimetype": "text/x-python",
   "name": "python",
   "nbconvert_exporter": "python",
   "pygments_lexer": "ipython3",
   "version": "3.12.5"
  }
 },
 "nbformat": 4,
 "nbformat_minor": 2
}
