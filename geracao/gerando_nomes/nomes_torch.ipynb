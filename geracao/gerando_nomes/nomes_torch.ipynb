{
 "cells": [
  {
   "cell_type": "code",
   "execution_count": 2,
   "metadata": {},
   "outputs": [
    {
     "name": "stdout",
     "output_type": "stream",
     "text": [
      "# categories: 18 ['Polish', 'German', 'Greek', 'Czech', 'French', 'Japanese', 'Scottish', 'English', 'Chinese', 'Korean', 'Dutch', 'Spanish', 'Vietnamese', 'Portuguese', 'Italian', 'Russian', 'Irish', 'Arabic']\n",
      "Joao\n"
     ]
    }
   ],
   "source": [
    "from io import open\n",
    "import glob\n",
    "import os\n",
    "import unicodedata\n",
    "import string\n",
    "\n",
    "\n",
    "all_letters = string.ascii_letters + \".,;'-\"\n",
    "n_letters = len(all_letters) + 1\n",
    "\n",
    "def findFiles(path): return glob.glob(path)\n",
    "\n",
    "#turn unicode string to ascii\n",
    "def unicodeToAscii(s):\n",
    "    return ''.join(\n",
    "        c for c in unicodedata.normalize('NFD',s)\n",
    "        if unicodedata.category(c) != 'Mn'\n",
    "        and c in all_letters\n",
    "    )\n",
    "\n",
    "def readLines(filename):\n",
    "    with open(filename,encoding='utf-8') as some_file:\n",
    "        return [unicodeToAscii(line.strip()) for line in some_file]\n",
    "\n",
    "# build category_lines dictionary, a list of lines per category\n",
    "category_lines = {}\n",
    "all_categories = []\n",
    "for filename in findFiles('data/names/*.txt'):\n",
    "    category = os.path.splitext(os.path.basename(filename))[0]\n",
    "    all_categories.append(category)\n",
    "    lines = readLines(filename)\n",
    "    category_lines[category] = lines\n",
    "\n",
    "n_categories = len(all_categories)\n",
    "\n",
    "if n_categories == 0:\n",
    "    raise RuntimeError('Data not found. make sure you downloaded it!')\n",
    "print(\"# categories:\", n_categories, all_categories)\n",
    "print(unicodeToAscii(\"João\"))"
   ]
  },
  {
   "cell_type": "code",
   "execution_count": 3,
   "metadata": {},
   "outputs": [],
   "source": [
    "import torch\n",
    "import torch.nn as nn\n",
    "\n",
    "class RNN(nn.Module):\n",
    "    def __init__(self,input_size,hidden_size,output_size):\n",
    "        super(RNN,self).__init__()\n",
    "        self.hidden_size = hidden_size\n",
    "\n",
    "        self.i2h = nn.Linear(n_categories + input_size + hidden_size,hidden_size)\n",
    "        self.i2o = nn.Linear(n_categories + input_size + hidden_size,output_size)\n",
    "        self.o2o = nn.Linear(hidden_size + output_size,output_size)\n",
    "        self.dropout = nn.Dropout(0.1)\n",
    "        self.softmax = nn.LogSoftmax(dim=1)\n",
    "\n",
    "    def forward(self, category, input, hidden):\n",
    "        input_combined = torch.cat((category,input,hidden),1)\n",
    "        hidden = self.i2h(input_combined)\n",
    "        output = self.i2o(input_combined)\n",
    "        output_combined = torch.cat((hidden,output),1)\n",
    "        output = self.o2o(output_combined)\n",
    "        output = self.dropout(output)\n",
    "        output = self.softmax(output)\n",
    "        return output,hidden\n",
    "    \n",
    "    def initHidden(self):\n",
    "        return torch.zeros(1,self.hidden_size)\n"
   ]
  },
  {
   "cell_type": "code",
   "execution_count": 4,
   "metadata": {},
   "outputs": [],
   "source": [
    "import random\n",
    "\n",
    "def randomTrainingPair():\n",
    "    category = random.choice(all_categories)\n",
    "    line = random.choice(category_lines[category])\n",
    "    return category,line\n"
   ]
  },
  {
   "cell_type": "code",
   "execution_count": 5,
   "metadata": {},
   "outputs": [],
   "source": [
    "#one hot vector for category\n",
    "def categoryTensor(category):\n",
    "    li = all_categories.index(category)\n",
    "    tensor = torch.zeros(1,n_categories)\n",
    "    tensor[0][li] = 1\n",
    "    return tensor\n",
    "\n",
    "#one hot matrix of first to last letters for input\n",
    "def inputTensor(line):\n",
    "    tensor = torch.zeros(len(line),1,n_letters)\n",
    "    for li in range(len(line)):\n",
    "        letter = line[li]\n",
    "        tensor[li][0][all_letters.find(letter)] = 1\n",
    "    return tensor\n",
    "\n",
    "# it misses the first character\n",
    "def targetTensor(line):\n",
    "    letter_indexes = [all_letters.find(line[li]) for li in range(1,len(line))]\n",
    "    letter_indexes.append(n_letters - 1) #EOS\n",
    "    return torch.LongTensor(letter_indexes)\n"
   ]
  },
  {
   "cell_type": "code",
   "execution_count": 6,
   "metadata": {},
   "outputs": [],
   "source": [
    "#make category, input, and target from random category, line pair\n",
    "def randomTrainingExample():\n",
    "    category,line = randomTrainingPair()\n",
    "    category_tensor = categoryTensor(category)\n",
    "    input_line_tensor = inputTensor(line)\n",
    "    target_line_tensor = targetTensor(line)\n",
    "    return category_tensor,input_line_tensor,target_line_tensor"
   ]
  },
  {
   "cell_type": "code",
   "execution_count": 7,
   "metadata": {},
   "outputs": [],
   "source": [
    "import time\n",
    "import math\n",
    "\n",
    "def timeSince(since):\n",
    "    now = time.time()\n",
    "    s = now - since\n",
    "    m = math.floor(s/60)\n",
    "    s -= m * 60\n",
    "    return f\"{m}m {s}s\""
   ]
  },
  {
   "cell_type": "code",
   "execution_count": 8,
   "metadata": {},
   "outputs": [],
   "source": [
    "rnn = RNN(n_letters, 128,n_letters)\n",
    "n_iters = 100000\n",
    "print_every = 5000\n",
    "save_every = 33000\n",
    "plot_every = 500\n",
    "all_losses = []\n",
    "total_loss = 0"
   ]
  },
  {
   "cell_type": "code",
   "execution_count": 9,
   "metadata": {},
   "outputs": [],
   "source": [
    "criterion = nn.NLLLoss()\n",
    "learning_rate = 0.0005\n",
    "\n",
    "def train(category_tensor, input_line_tensor, target_line_tensor):\n",
    "    target_line_tensor.unsqueeze_(-1)\n",
    "    hidden = rnn.initHidden()\n",
    "    rnn.zero_grad()\n",
    "\n",
    "    loss = torch.Tensor([0]) # u can also just use loss = 0\n",
    "\n",
    "    for i in range(input_line_tensor.size(0)):\n",
    "        output, hidden = rnn(category_tensor,input_line_tensor[i],hidden)\n",
    "        l = criterion(output,target_line_tensor[i])\n",
    "        loss += l\n",
    "    \n",
    "    loss.backward()\n",
    "\n",
    "    for p in rnn.parameters():\n",
    "        p.data.add_(p.grad.data,alpha=-learning_rate)\n",
    "    \n",
    "    return output, loss.item() / input_line_tensor.size(0)"
   ]
  },
  {
   "cell_type": "code",
   "execution_count": 10,
   "metadata": {},
   "outputs": [
    {
     "name": "stdout",
     "output_type": "stream",
     "text": [
      "0m 7.233880043029785s (5000 5.0%) 2.1946\n",
      "0m 14.294437646865845s (10000 10.0%) 3.4101\n",
      "0m 21.41238570213318s (15000 15.0%) 3.0012\n",
      "0m 28.56778311729431s (20000 20.0%) 2.7847\n",
      "0m 36.110098123550415s (25000 25.0%) 2.6971\n",
      "0m 43.23392367362976s (30000 30.0%) 1.9221\n",
      "0m 50.27430486679077s (35000 35.0%) 2.3963\n",
      "0m 57.395801067352295s (40000 40.0%) 3.5747\n",
      "1m 4.568399429321289s (45000 45.0%) 1.7782\n",
      "1m 12.229755401611328s (50000 50.0%) 3.4062\n",
      "1m 20.263721704483032s (55000 55.00000000000001%) 1.8089\n",
      "1m 27.655418395996094s (60000 60.0%) 2.0241\n",
      "1m 35.10193848609924s (65000 65.0%) 2.4810\n",
      "1m 42.62185478210449s (70000 70.0%) 2.6947\n",
      "1m 49.718900203704834s (75000 75.0%) 2.2951\n",
      "1m 56.818384408950806s (80000 80.0%) 3.3823\n",
      "2m 4.324218034744263s (85000 85.0%) 2.7210\n",
      "2m 11.972995519638062s (90000 90.0%) 2.1969\n",
      "2m 19.200725555419922s (95000 95.0%) 2.1617\n",
      "2m 26.402265787124634s (100000 100.0%) 2.4263\n"
     ]
    }
   ],
   "source": [
    "start = time.time()\n",
    "\n",
    "for iter in range(1,n_iters + 1):\n",
    "    output, loss = train(*randomTrainingExample())\n",
    "    total_loss += loss\n",
    "\n",
    "    if iter % print_every == 0:\n",
    "        print(f'{timeSince(start)} ({iter} {iter/n_iters * 100}%) {loss:>.4f}')\n",
    "    \n",
    "    if iter % plot_every == 0:\n",
    "        all_losses.append(total_loss/plot_every)\n",
    "        total_loss = 0\n",
    "\n",
    "    if iter % save_every == 0:\n",
    "        torch.save(rnn,f'modelos/model{iter}.pth')"
   ]
  },
  {
   "cell_type": "code",
   "execution_count": 14,
   "metadata": {},
   "outputs": [],
   "source": [
    "torch.save(rnn,f'modelos/model{100000}.pth')"
   ]
  },
  {
   "cell_type": "code",
   "execution_count": 11,
   "metadata": {},
   "outputs": [
    {
     "data": {
      "text/plain": [
       "[<matplotlib.lines.Line2D at 0x7fd2695407a0>]"
      ]
     },
     "execution_count": 11,
     "metadata": {},
     "output_type": "execute_result"
    },
    {
     "data": {
      "image/png": "[encoded data removed]",
      "text/plain": [
       "<Figure size 640x480 with 1 Axes>"
      ]
     },
     "metadata": {},
     "output_type": "display_data"
    }
   ],
   "source": [
    "import matplotlib.pyplot as plt\n",
    "\n",
    "plt.figure()\n",
    "plt.plot(all_losses)"
   ]
  },
  {
   "cell_type": "code",
   "execution_count": 12,
   "metadata": {},
   "outputs": [],
   "source": [
    "max_length = 20\n",
    "\n",
    "#sample from a category and starting letter\n",
    "\n",
    "def sample(category,start_letter='H'):\n",
    "    with torch.no_grad():\n",
    "        category_tensor = categoryTensor(category)\n",
    "        input = inputTensor(start_letter)\n",
    "        hidden = rnn.initHidden()\n",
    "\n",
    "        output_name = start_letter\n",
    "\n",
    "        for _ in range(max_length):\n",
    "            output, hidden = rnn(category_tensor,input[0],hidden)\n",
    "            topv, topi = output.topk(1) #picks top 1 in output lettrs\n",
    "            topi = topi[0][0]\n",
    "            if topi == n_letters - 1:\n",
    "                break\n",
    "            else:\n",
    "                letter = all_letters[topi]\n",
    "                output_name += letter\n",
    "            input = inputTensor(letter)\n",
    "        \n",
    "        return output_name\n",
    "\n",
    "def samples(category,start_letters='ABC'):\n",
    "    for start_letter in start_letters:\n",
    "        print(sample(category,start_letter))"
   ]
  },
  {
   "cell_type": "code",
   "execution_count": 18,
   "metadata": {},
   "outputs": [
    {
     "name": "stdout",
     "output_type": "stream",
     "text": [
      "Arter\n"
     ]
    }
   ],
   "source": [
    "samples('German','A')"
   ]
  }
 ],
 "metadata": {
  "kernelspec": {
   "display_name": "icp363",
   "language": "python",
   "name": "python3"
  },
  "language_info": {
   "codemirror_mode": {
    "name": "ipython",
    "version": 3
   },
   "file_extension": ".py",
   "mimetype": "text/x-python",
   "name": "python",
   "nbconvert_exporter": "python",
   "pygments_lexer": "ipython3",
   "version": "3.12.5"
  }
 },
 "nbformat": 4,
 "nbformat_minor": 2
}
