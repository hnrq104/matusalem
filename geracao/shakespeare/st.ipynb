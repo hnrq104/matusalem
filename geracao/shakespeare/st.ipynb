{
 "cells": [
  {
   "cell_type": "code",
   "execution_count": 2,
   "metadata": {},
   "outputs": [
    {
     "name": "stdout",
     "output_type": "stream",
     "text": [
      "Length of text: 1115394 characters\n"
     ]
    }
   ],
   "source": [
    "from io import open\n",
    "import glob\n",
    "import os\n",
    "import unicodedata\n",
    "import string\n",
    "\n",
    "text = open('shakespeare.txt','rb').read().decode(encoding='utf-8')\n",
    "print(f'Length of text: {len(text)} characters')"
   ]
  },
  {
   "cell_type": "code",
   "execution_count": 3,
   "metadata": {},
   "outputs": [
    {
     "name": "stdout",
     "output_type": "stream",
     "text": [
      "First Citizen:\n",
      "Before we proceed any further, hear me speak.\n",
      "\n",
      "All:\n",
      "Speak, speak.\n",
      "\n",
      "First Citizen:\n",
      "You are all resolved rather to die than to famish?\n",
      "\n",
      "All:\n",
      "Resolved. resolved.\n",
      "\n",
      "First Citizen:\n",
      "First, you know Caius Marcius is chief enemy to the people.\n",
      "\n"
     ]
    }
   ],
   "source": [
    "print(text[:250]) # ceasar!!"
   ]
  },
  {
   "cell_type": "code",
   "execution_count": 4,
   "metadata": {},
   "outputs": [
    {
     "name": "stdout",
     "output_type": "stream",
     "text": [
      "65 unique characters\n"
     ]
    }
   ],
   "source": [
    "#unique characters\n",
    "vocab = sorted(set(text))\n",
    "n_letters = len(vocab)\n",
    "print(f'{len(vocab)} unique characters')"
   ]
  },
  {
   "cell_type": "code",
   "execution_count": 5,
   "metadata": {},
   "outputs": [
    {
     "data": {
      "text/plain": [
       "tensor([47, 56, 57, 58,  1, 15, 47, 58, 47, 64, 43, 52, 10])"
      ]
     },
     "execution_count": 5,
     "metadata": {},
     "output_type": "execute_result"
    }
   ],
   "source": [
    "import torch\n",
    "\n",
    "#como vou usar uma embedding layer, não vou querer usar one-hot-encoding\n",
    "# misses first character\n",
    "def seqToTensor(line):\n",
    "    letter_indexes = [vocab.index(line[li]) for li in range(1,len(line))]\n",
    "    return torch.LongTensor(letter_indexes)\n",
    "\n",
    "seqToTensor('First Citizen:')"
   ]
  },
  {
   "cell_type": "code",
   "execution_count": 17,
   "metadata": {},
   "outputs": [],
   "source": [
    "from torch.utils.data import Dataset\n",
    "from torch.utils.data import DataLoader\n",
    "\n",
    "#testar depois sequencias disjuntas!\n",
    "\n",
    "class TextDataset(Dataset):\n",
    "    def __init__(self,text,sequence_length):\n",
    "        self.text = text\n",
    "        self.sequence_length = sequence_length\n",
    "    \n",
    "    def __len__(self):\n",
    "        return len(self.text) - self.sequence_length\n",
    "    \n",
    "    def __getitem__(self,idx):\n",
    "        sequence = self.text[idx:idx+self.sequence_length+1]\n",
    "        return seqToTensor(sequence[:-1]),seqToTensor(sequence[1:])"
   ]
  },
  {
   "cell_type": "code",
   "execution_count": 18,
   "metadata": {},
   "outputs": [],
   "source": [
    "seq_length = 100\n",
    "dataset = TextDataset(text=text,sequence_length=seq_length)\n",
    "dataloader = DataLoader(dataset,batch_size=64,shuffle=True)"
   ]
  },
  {
   "cell_type": "code",
   "execution_count": 16,
   "metadata": {},
   "outputs": [
    {
     "name": "stdout",
     "output_type": "stream",
     "text": [
      "[tensor([[30, 33, 15,  ..., 42,  1, 61],\n",
      "        [52, 57,  0,  ..., 44, 47, 41],\n",
      "        [53,  1, 42,  ..., 51,  6,  1],\n",
      "        ...,\n",
      "        [52, 42,  1,  ..., 43, 43, 54],\n",
      "        [47, 52,  1,  ..., 49, 47, 57],\n",
      "        [ 1, 61, 46,  ...,  1, 39, 44]]), tensor([[33, 15, 20,  ...,  1, 61, 43],\n",
      "        [57,  0, 32,  ..., 47, 41, 43],\n",
      "        [ 1, 42, 56,  ...,  6,  1, 51],\n",
      "        ...,\n",
      "        [42,  1, 58,  ..., 43, 54,  1],\n",
      "        [52,  1, 58,  ..., 47, 57, 57],\n",
      "        [61, 46, 53,  ..., 39, 44, 58]])]\n"
     ]
    }
   ],
   "source": [
    "print(next(iter(dataloader)))"
   ]
  },
  {
   "cell_type": "code",
   "execution_count": null,
   "metadata": {},
   "outputs": [],
   "source": [
    "#embedding dimension\n",
    "embedding_dim = 256\n",
    "rnn_units = 1024\n",
    "hidden_size = 256"
   ]
  },
  {
   "cell_type": "code",
   "execution_count": null,
   "metadata": {},
   "outputs": [],
   "source": [
    "import torch.nn as nn\n",
    "\n",
    "class RNN(nn.Module):\n",
    "    def __init__(self,vocab_size, embedding_dim, hidden_size, rnn_units):\n",
    "        super().__init__(self)\n",
    "\n",
    "        self.emb = nn.Embedding(num_embeddings=vocab_size,embedding_dim=embedding_dim) #embedding layer\n",
    "        self.gru = nn.GRU(input_size=embedding_dim, hidden_size=hidden_size, num_layers=rnn_units)\n",
    "        self.dense = nn.Linear\n"
   ]
  }
 ],
 "metadata": {
  "kernelspec": {
   "display_name": "icp363",
   "language": "python",
   "name": "python3"
  },
  "language_info": {
   "codemirror_mode": {
    "name": "ipython",
    "version": 3
   },
   "file_extension": ".py",
   "mimetype": "text/x-python",
   "name": "python",
   "nbconvert_exporter": "python",
   "pygments_lexer": "ipython3",
   "version": "3.12.5"
  }
 },
 "nbformat": 4,
 "nbformat_minor": 2
}
